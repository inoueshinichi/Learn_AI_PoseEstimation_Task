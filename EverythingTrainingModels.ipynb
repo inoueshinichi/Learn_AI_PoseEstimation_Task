{
 "cells": [
  {
   "attachments": {},
   "cell_type": "markdown",
   "metadata": {},
   "source": [
    "# 画像中の人間の姿勢推定タスク"
   ]
  },
  {
   "attachments": {},
   "cell_type": "markdown",
   "metadata": {},
   "source": [
    "## アノテーションデータ\n",
    "+ MS_COCO_2014から姿勢推定タスクに使用するアノテーションデータ\n",
    "+ https://github.com/tensorboy/pytorch_Realtime_Multi-Person_Pose_Estimation"
   ]
  },
  {
   "attachments": {},
   "cell_type": "markdown",
   "metadata": {},
   "source": [
    "いつもの設定"
   ]
  },
  {
   "cell_type": "code",
   "execution_count": 1,
   "metadata": {},
   "outputs": [],
   "source": [
    "from type_hint import *\n",
    "from import_str import importstr\n",
    "from log_conf import logging\n",
    "log = logging.getLogger('nb')\n",
    "\n",
    "# log.setLevel(logging.WARN)\n",
    "log.setLevel(logging.INFO)\n",
    "log.setLevel(logging.DEBUG)\n",
    "\n",
    "# running everything app\n",
    "def run(app, *argv):\n",
    "    argv = list(argv)\n",
    "    log.info('Running: {}({!r}).main()'.format(app, argv))\n",
    "    print(\"*app.rsplit('.', 1) : \", *app.rsplit('.', 1))\n",
    "\n",
    "    app_cls = importstr(*app.rsplit('.', 1)) # __import__を実行\n",
    "    app_cls(argv).main()\n",
    "\n",
    "    log.info(\"Finished: {}.({!r}).main()\".format(app, argv))"
   ]
  },
  {
   "cell_type": "code",
   "execution_count": null,
   "metadata": {},
   "outputs": [],
   "source": []
  }
 ],
 "metadata": {
  "kernelspec": {
   "display_name": "Py39WorkingEnv",
   "language": "python",
   "name": "python3"
  },
  "language_info": {
   "codemirror_mode": {
    "name": "ipython",
    "version": 3
   },
   "file_extension": ".py",
   "mimetype": "text/x-python",
   "name": "python",
   "nbconvert_exporter": "python",
   "pygments_lexer": "ipython3",
   "version": "3.9.16"
  },
  "orig_nbformat": 4
 },
 "nbformat": 4,
 "nbformat_minor": 2
}
